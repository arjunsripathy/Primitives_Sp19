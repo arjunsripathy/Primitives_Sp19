{
 "cells": [
  {
   "cell_type": "code",
   "execution_count": 4,
   "metadata": {
    "scrolled": true
   },
   "outputs": [
    {
     "name": "stdout",
     "output_type": "stream",
     "text": [
      "Populating the interactive namespace from numpy and matplotlib\n"
     ]
    }
   ],
   "source": [
    "import json\n",
    "from parser import *\n",
    "import io \n",
    "import IPython.display\n",
    "import os \n",
    "import base64\n",
    "import numpy as np\n",
    "%pylab inline\n",
    "import shutil\n",
    "import scipy\n",
    "from scipy import ndimage\n",
    "import pdb\n",
    "import seaborn as sns\n",
    "sns.set_style(\"white\")\n",
    "dataFolder = '/Users/cocosci/Dropbox (MIT)/LETTERS_JBT/Exp_2/reand1more/PilotData4/'\n",
    "outputFolder = dataFolder + \"allOutput_Extra/\"\n"
   ]
  },
  {
   "cell_type": "code",
   "execution_count": 5,
   "metadata": {},
   "outputs": [],
   "source": [
    "## definition statement, helper functions\n",
    "def terminalUnfuck(string):\n",
    "    newString = string.replace(\" \", \"\\ \")\n",
    "    newString = newString.replace(\"(\", \"\\(\" )\n",
    "    newString = newString.replace(\")\", \"\\)\" )\n",
    "    return newString\n",
    "                               \n",
    "\n",
    "def getx(p):\n",
    "    return p[u'x']\n",
    "\n",
    "def gety(p):\n",
    "    return p[u'y']\n",
    "\n",
    "def plotstroke_new(ax, onestroke, onecolor, file_ind, outputDirectory):\n",
    "    #print onestroke\n",
    "    ax.cla()\n",
    "    xs = map(getx,onestroke)\n",
    "    ys = map(gety,onestroke)\n",
    "    ySizeOfImage = 500\n",
    "    xSizeOfImage = 500\n",
    "    assert(len(xs) == len(ys))\n",
    "    #this flips the axis \n",
    "    ax.invert_yaxis()\n",
    "    \n",
    "    for i in range(len(xs)):\n",
    "        x, y = xs[:i], ys[:i]\n",
    "        temp_plot = ax.plot(x,y,lw=3, color=onecolor)\n",
    "    ## TOMER AND ELIZA NOTE: COMMENT OUT THE 2 LINES BELOW\n",
    "    ## IF YOU WANT THE IMAGES TO BE 'ZOOMED IN' \n",
    "    xlim(0,xSizeOfImage)\n",
    "    ylim(0,ySizeOfImage)\n",
    "    savefig(outputDirectory + 'image%02d_%04d' %(file_ind, i))\n",
    "\n",
    "    ax.invert_yaxis()\n",
    "    \n",
    "\n",
    "def flatList(l):\n",
    "    return [item for sublist in l for item in sublist]\n",
    "\n",
    "def makeimage(letter, outputDirectory):\n",
    "\n",
    "    strokeColors = [\"blue\",\"red\",\"green\",\"yellow\",\"magenta\",\"black\",\n",
    "                   \"cyan\", sns.xkcd_rgb[\"poop\"], sns.xkcd_rgb[\"faded green\"],sns.xkcd_rgb[\"dusty purple\"],\n",
    "                    sns.xkcd_rgb[\"hot pink\"],sns.xkcd_rgb[\"golden yellow\"],sns.xkcd_rgb[\"electric purple\"],\n",
    "                    sns.xkcd_rgb[\"light lime\"],sns.xkcd_rgb[\"egg shell\"],sns.xkcd_rgb[\"brick red\"],\n",
    "                    sns.xkcd_rgb[\"baby blue\"],sns.xkcd_rgb[\"yellow\"],sns.xkcd_rgb[\"violet\"],sns.xkcd_rgb[\"aqua\"],\n",
    "                    sns.xkcd_rgb[\"brick red\"],sns.xkcd_rgb[\"lilac\"],sns.xkcd_rgb[\"olive\"],sns.xkcd_rgb[\"olive\"],\n",
    "                    sns.xkcd_rgb[\"peach\"],sns.xkcd_rgb[\"lime\"]]\n",
    "    #strokes = letter[u'strokes']\n",
    "    strokes = list(letter)\n",
    "    f = figure() # ray\n",
    "    ax = f.gca() # ray\n",
    "    yticks([])\n",
    "    xticks([])\n",
    "    xlim(0,500)\n",
    "    ylim(0,500)\n",
    "    allX = []\n",
    "    allY = []\n",
    "    for i in range(len(strokes)):\n",
    "        color = strokeColors[i]\n",
    "        stroke = strokes[i]\n",
    "        stroke = [w for w in stroke]\n",
    "        xs = map(getx, stroke)\n",
    "        ys = map(gety, stroke)\n",
    "        allX.append(xs)\n",
    "        allY.append(ys)\n",
    "        plotstroke_new(ax, stroke, color, i, outputDirectory) \n",
    "    allX = flatList(allX)\n",
    "    allY = flatList(allY)\n",
    "    jointXY = array([allX, allY]).transpose()\n",
    "    savetxt(outputDirectory + \"data.csv\", jointXY, delimiter=\",\")\n",
    "   \n",
    "\n"
   ]
  },
  {
   "cell_type": "code",
   "execution_count": 6,
   "metadata": {},
   "outputs": [
    {
     "ename": "KeyError",
     "evalue": "u'Part1 michael-2018-03-09T16:27:29.json'",
     "output_type": "error",
     "traceback": [
      "\u001b[0;31m---------------------------------------------------------------------------\u001b[0m",
      "\u001b[0;31mKeyError\u001b[0m                                  Traceback (most recent call last)",
      "\u001b[0;32m<ipython-input-6-5a6429a49ecf>\u001b[0m in \u001b[0;36m<module>\u001b[0;34m()\u001b[0m\n\u001b[0;32m----> 1\u001b[0;31m \u001b[0mallSubjects\u001b[0m \u001b[0;34m=\u001b[0m \u001b[0mloadDataFromFolder\u001b[0m\u001b[0;34m(\u001b[0m\u001b[0mdataFolder\u001b[0m\u001b[0;34m)\u001b[0m\u001b[0;34m\u001b[0m\u001b[0m\n\u001b[0m\u001b[1;32m      2\u001b[0m \u001b[0;32mfor\u001b[0m \u001b[0msubjectIndex\u001b[0m\u001b[0;34m,\u001b[0m \u001b[0msubject\u001b[0m \u001b[0;32min\u001b[0m \u001b[0menumerate\u001b[0m\u001b[0;34m(\u001b[0m\u001b[0mallSubjects\u001b[0m\u001b[0;34m[\u001b[0m\u001b[0;36m2\u001b[0m\u001b[0;34m:\u001b[0m\u001b[0;36m3\u001b[0m\u001b[0;34m]\u001b[0m\u001b[0;34m)\u001b[0m\u001b[0;34m:\u001b[0m\u001b[0;34m\u001b[0m\u001b[0m\n\u001b[1;32m      3\u001b[0m     \u001b[0;32mfor\u001b[0m \u001b[0mletterIndex\u001b[0m\u001b[0;34m,\u001b[0m \u001b[0mletter\u001b[0m \u001b[0;32min\u001b[0m \u001b[0menumerate\u001b[0m\u001b[0;34m(\u001b[0m\u001b[0msubject\u001b[0m\u001b[0;34m)\u001b[0m\u001b[0;34m:\u001b[0m\u001b[0;34m\u001b[0m\u001b[0m\n\u001b[1;32m      4\u001b[0m         \u001b[0;32mtry\u001b[0m\u001b[0;34m:\u001b[0m\u001b[0;34m\u001b[0m\u001b[0m\n\u001b[1;32m      5\u001b[0m             \u001b[0mwithinChildOutputDirectory\u001b[0m \u001b[0;34m=\u001b[0m \u001b[0moutputFolder\u001b[0m \u001b[0;34m+\u001b[0m \u001b[0;34m\"/\"\u001b[0m \u001b[0;34m+\u001b[0m                                          \u001b[0msubject\u001b[0m\u001b[0;34m.\u001b[0m\u001b[0mname\u001b[0m \u001b[0;34m+\u001b[0m                                          \u001b[0;34m\"/strokes/\"\u001b[0m \u001b[0;34m+\u001b[0m \u001b[0mstr\u001b[0m\u001b[0;34m(\u001b[0m\u001b[0mletterIndex\u001b[0m\u001b[0;34m)\u001b[0m \u001b[0;34m+\u001b[0m \u001b[0;34m\"/\"\u001b[0m\u001b[0;34m\u001b[0m\u001b[0m\n",
      "\u001b[0;32m/Users/cocosci/Dropbox (MIT)/LETTERS_JBT/Exp_2/reand1more/parser.pyc\u001b[0m in \u001b[0;36mloadDataFromFolder\u001b[0;34m(datadir)\u001b[0m\n\u001b[1;32m     11\u001b[0m     \u001b[0mtest_image_jsons\u001b[0m \u001b[0;34m=\u001b[0m \u001b[0mjsonFromFile\u001b[0m\u001b[0;34m(\u001b[0m\u001b[0mfiles\u001b[0m\u001b[0;34m.\u001b[0m\u001b[0mpop\u001b[0m\u001b[0;34m(\u001b[0m\u001b[0;34m\"test-image-data.json\"\u001b[0m\u001b[0;34m)\u001b[0m\u001b[0;34m)\u001b[0m\u001b[0;34m\u001b[0m\u001b[0m\n\u001b[1;32m     12\u001b[0m     \u001b[0mtest_sequence_jsons\u001b[0m \u001b[0;34m=\u001b[0m \u001b[0mjsonFromFile\u001b[0m\u001b[0;34m(\u001b[0m\u001b[0mfiles\u001b[0m\u001b[0;34m.\u001b[0m\u001b[0mpop\u001b[0m\u001b[0;34m(\u001b[0m\u001b[0;34m\"test-sequence-data.json\"\u001b[0m\u001b[0;34m)\u001b[0m\u001b[0;34m)\u001b[0m\u001b[0;34m\u001b[0m\u001b[0m\n\u001b[0;32m---> 13\u001b[0;31m     \u001b[0mtest_subject_jsons\u001b[0m \u001b[0;34m=\u001b[0m \u001b[0;34m[\u001b[0m\u001b[0mjsonFromFile\u001b[0m\u001b[0;34m(\u001b[0m\u001b[0mfiles\u001b[0m\u001b[0;34m.\u001b[0m\u001b[0mpop\u001b[0m\u001b[0;34m(\u001b[0m\u001b[0mx\u001b[0m \u001b[0;34m+\u001b[0m \u001b[0;34m\".json\"\u001b[0m\u001b[0;34m)\u001b[0m\u001b[0;34m)\u001b[0m \u001b[0;32mfor\u001b[0m \u001b[0mx\u001b[0m \u001b[0;32min\u001b[0m \u001b[0mjsonFromFile\u001b[0m\u001b[0;34m(\u001b[0m\u001b[0mfiles\u001b[0m\u001b[0;34m.\u001b[0m\u001b[0mpop\u001b[0m\u001b[0;34m(\u001b[0m\u001b[0;34m\"manifest.json\"\u001b[0m\u001b[0;34m)\u001b[0m\u001b[0;34m)\u001b[0m\u001b[0;34m]\u001b[0m\u001b[0;34m\u001b[0m\u001b[0m\n\u001b[0m\u001b[1;32m     14\u001b[0m \u001b[0;34m\u001b[0m\u001b[0m\n\u001b[1;32m     15\u001b[0m     \u001b[0mtest_images\u001b[0m \u001b[0;34m=\u001b[0m \u001b[0;34m{\u001b[0m\u001b[0mx\u001b[0m\u001b[0;34m[\u001b[0m\u001b[0;36m0\u001b[0m\u001b[0;34m]\u001b[0m\u001b[0;34m:\u001b[0m \u001b[0mTestImage\u001b[0m\u001b[0;34m(\u001b[0m\u001b[0mx\u001b[0m\u001b[0;34m[\u001b[0m\u001b[0;36m1\u001b[0m\u001b[0;34m]\u001b[0m\u001b[0;34m)\u001b[0m \u001b[0;32mfor\u001b[0m \u001b[0mx\u001b[0m \u001b[0;32min\u001b[0m \u001b[0mtest_image_jsons\u001b[0m\u001b[0;34m}\u001b[0m\u001b[0;34m\u001b[0m\u001b[0m\n",
      "\u001b[0;31mKeyError\u001b[0m: u'Part1 michael-2018-03-09T16:27:29.json'"
     ]
    }
   ],
   "source": [
    "allSubjects = loadDataFromFolder(dataFolder)\n",
    "for subjectIndex, subject in enumerate(allSubjects[3:7]):\n",
    "    for letterIndex, letter in enumerate(subject):\n",
    "        try:\n",
    "            withinChildOutputDirectory = outputFolder + \"/\" + \\\n",
    "                                         subject.name + \\\n",
    "                                         \"/strokes/\" + str(letterIndex) + \"/\"\n",
    "            if os.path.isdir(withinChildOutputDirectory):\n",
    "                shutil.rmtree(withinChildOutputDirectory)\n",
    "            os.makedirs(withinChildOutputDirectory)\n",
    "            makeimage(letter, withinChildOutputDirectory) \n",
    "\n",
    "#             #Makes movie and gif\n",
    "\n",
    "#             #directoryToImages = \"/Users/cocosci/Desktop/ray_out/\"\n",
    "#             os.system(\"ffmpeg -framerate 30 -pattern_type glob -i '\" + \\\n",
    "#                       terminalUnfuck(withinChildOutputDirectory) + \\\n",
    "#                        \"*.png' -c:v libx264 -pix_fmt yuv420p \" + \n",
    "#                       terminalUnfuck(withinChildOutputDirectory) + \"out.mp4\")\n",
    "\n",
    "#             os.system(\"convert -delay 1.5 \" + terminalUnfuck(withinChildOutputDirectory) +  \\\n",
    "#                        \"/*.png \" + terminalUnfuck(withinChildOutputDirectory) + \"tout.gif\")\n",
    "        except:\n",
    "             ## sometimes files are missing watchagonnado move on\n",
    "            pass\n",
    "        plt.close()\n"
   ]
  },
  {
   "cell_type": "code",
   "execution_count": null,
   "metadata": {},
   "outputs": [],
   "source": []
  }
 ],
 "metadata": {
  "kernelspec": {
   "display_name": "Python 2",
   "language": "python",
   "name": "python2"
  },
  "language_info": {
   "codemirror_mode": {
    "name": "ipython",
    "version": 2
   },
   "file_extension": ".py",
   "mimetype": "text/x-python",
   "name": "python",
   "nbconvert_exporter": "python",
   "pygments_lexer": "ipython2",
   "version": "2.7.14"
  }
 },
 "nbformat": 4,
 "nbformat_minor": 1
}
